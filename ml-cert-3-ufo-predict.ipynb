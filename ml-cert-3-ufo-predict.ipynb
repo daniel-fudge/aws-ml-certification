{
 "cells": [
  {
   "cell_type": "code",
   "execution_count": 2,
   "id": "a62edbee",
   "metadata": {},
   "outputs": [],
   "source": [
    "import boto3\n",
    "from datetime import datetime\n",
    "import numpy as np\n",
    "import os\n",
    "import pandas as pd\n",
    "import sagemaker\n"
   ]
  },
  {
   "cell_type": "markdown",
   "id": "bf3a04d6",
   "metadata": {},
   "source": [
    "### Get the data"
   ]
  },
  {
   "cell_type": "code",
   "execution_count": 44,
   "id": "2437cf94",
   "metadata": {},
   "outputs": [
    {
     "data": {
      "text/html": [
       "<div>\n",
       "<style scoped>\n",
       "    .dataframe tbody tr th:only-of-type {\n",
       "        vertical-align: middle;\n",
       "    }\n",
       "\n",
       "    .dataframe tbody tr th {\n",
       "        vertical-align: top;\n",
       "    }\n",
       "\n",
       "    .dataframe thead th {\n",
       "        text-align: right;\n",
       "    }\n",
       "</style>\n",
       "<table border=\"1\" class=\"dataframe\">\n",
       "  <thead>\n",
       "    <tr style=\"text-align: right;\">\n",
       "      <th></th>\n",
       "      <th>shape</th>\n",
       "      <th>duration</th>\n",
       "      <th>witnesses</th>\n",
       "      <th>weather</th>\n",
       "      <th>physicalEvidence</th>\n",
       "      <th>contact</th>\n",
       "      <th>researchOutcome</th>\n",
       "    </tr>\n",
       "  </thead>\n",
       "  <tbody>\n",
       "    <tr>\n",
       "      <th>0</th>\n",
       "      <td>circle</td>\n",
       "      <td>4</td>\n",
       "      <td>1</td>\n",
       "      <td>rain</td>\n",
       "      <td>N</td>\n",
       "      <td>N</td>\n",
       "      <td>explained</td>\n",
       "    </tr>\n",
       "    <tr>\n",
       "      <th>1</th>\n",
       "      <td>disk</td>\n",
       "      <td>4</td>\n",
       "      <td>1</td>\n",
       "      <td>partly cloudy</td>\n",
       "      <td>Y</td>\n",
       "      <td>N</td>\n",
       "      <td>explained</td>\n",
       "    </tr>\n",
       "    <tr>\n",
       "      <th>2</th>\n",
       "      <td>circle</td>\n",
       "      <td>49</td>\n",
       "      <td>1</td>\n",
       "      <td>clear</td>\n",
       "      <td>N</td>\n",
       "      <td>N</td>\n",
       "      <td>explained</td>\n",
       "    </tr>\n",
       "    <tr>\n",
       "      <th>3</th>\n",
       "      <td>disk</td>\n",
       "      <td>13</td>\n",
       "      <td>1</td>\n",
       "      <td>partly cloudy</td>\n",
       "      <td>N</td>\n",
       "      <td>N</td>\n",
       "      <td>explained</td>\n",
       "    </tr>\n",
       "    <tr>\n",
       "      <th>4</th>\n",
       "      <td>circle</td>\n",
       "      <td>17</td>\n",
       "      <td>1</td>\n",
       "      <td>mostly cloudy</td>\n",
       "      <td>N</td>\n",
       "      <td>N</td>\n",
       "      <td>explained</td>\n",
       "    </tr>\n",
       "  </tbody>\n",
       "</table>\n",
       "</div>"
      ],
      "text/plain": [
       "    shape  duration  witnesses        weather physicalEvidence contact  \\\n",
       "0  circle         4          1           rain                N       N   \n",
       "1    disk         4          1  partly cloudy                Y       N   \n",
       "2  circle        49          1          clear                N       N   \n",
       "3    disk        13          1  partly cloudy                N       N   \n",
       "4  circle        17          1  mostly cloudy                N       N   \n",
       "\n",
       "  researchOutcome  \n",
       "0       explained  \n",
       "1       explained  \n",
       "2       explained  \n",
       "3       explained  \n",
       "4       explained  "
      ]
     },
     "execution_count": 44,
     "metadata": {},
     "output_type": "execute_result"
    }
   ],
   "source": [
    "data = pd.read_csv('ufo_fullset.csv', usecols=['shape', 'duration', 'witnesses', 'weather', 'physicalEvidence', 'contact', 'researchOutcome'])\n",
    "data.head()\n"
   ]
  },
  {
   "cell_type": "markdown",
   "id": "e688f43f",
   "metadata": {},
   "source": [
    "### Clean the data"
   ]
  },
  {
   "cell_type": "code",
   "execution_count": 57,
   "id": "8a2b1590",
   "metadata": {},
   "outputs": [
    {
     "name": "stdout",
     "output_type": "stream",
     "text": [
      "   explained  duration  witnesses  physicalEvidence  contact  probable  box  \\\n",
      "0          1         4          1                 0        0         0    0   \n",
      "1          1         4          1                 1        0         0    0   \n",
      "2          1        49          1                 0        0         0    0   \n",
      "3          1        13          1                 0        0         0    0   \n",
      "4          1        17          1                 0        0         0    0   \n",
      "\n",
      "   circle  disk  light  ...  pyramid  sphere  square  triangle  fog  \\\n",
      "0       1     0      0  ...        0       0       0         0    0   \n",
      "1       0     1      0  ...        0       0       0         0    0   \n",
      "2       1     0      0  ...        0       0       0         0    0   \n",
      "3       0     1      0  ...        0       0       0         0    0   \n",
      "4       1     0      0  ...        0       0       0         0    0   \n",
      "\n",
      "   mostly_cloudy  partly_cloudy  rain  snow  stormy  \n",
      "0              0              0     1     0       0  \n",
      "1              0              1     0     0       0  \n",
      "2              0              0     0     0       0  \n",
      "3              0              1     0     0       0  \n",
      "4              1              0     0     0       0  \n",
      "\n",
      "[5 rows x 21 columns]\n",
      "<class 'pandas.core.frame.DataFrame'>\n",
      "RangeIndex: 18000 entries, 0 to 17999\n",
      "Data columns (total 21 columns):\n",
      " #   Column            Non-Null Count  Dtype\n",
      "---  ------            --------------  -----\n",
      " 0   explained         18000 non-null  uint8\n",
      " 1   duration          18000 non-null  int64\n",
      " 2   witnesses         18000 non-null  int64\n",
      " 3   physicalEvidence  18000 non-null  int64\n",
      " 4   contact           18000 non-null  int64\n",
      " 5   probable          18000 non-null  uint8\n",
      " 6   box               18000 non-null  uint8\n",
      " 7   circle            18000 non-null  uint8\n",
      " 8   disk              18000 non-null  uint8\n",
      " 9   light             18000 non-null  uint8\n",
      " 10  oval              18000 non-null  uint8\n",
      " 11  pyramid           18000 non-null  uint8\n",
      " 12  sphere            18000 non-null  uint8\n",
      " 13  square            18000 non-null  uint8\n",
      " 14  triangle          18000 non-null  uint8\n",
      " 15  fog               18000 non-null  uint8\n",
      " 16  mostly_cloudy     18000 non-null  uint8\n",
      " 17  partly_cloudy     18000 non-null  uint8\n",
      " 18  rain              18000 non-null  uint8\n",
      " 19  snow              18000 non-null  uint8\n",
      " 20  stormy            18000 non-null  uint8\n",
      "dtypes: int64(4), uint8(17)\n",
      "memory usage: 861.5 KB\n",
      "None\n"
     ]
    }
   ],
   "source": [
    "data_clean = data.fillna('unknown')\n",
    "data_clean.replace(' ', '_', regex=True, inplace=True)\n",
    "data_clean.replace(('Y', 'N'), (1, 0), inplace=True)\n",
    "\n",
    "data_clean = pd.get_dummies(data_clean, columns=['researchOutcome', 'shape', 'weather'])\n",
    "data_clean.drop(columns=['researchOutcome_unexplained', 'shape_unknown', 'weather_clear'], inplace=True)\n",
    "data_clean.columns = data_clean.columns.str.replace(\"researchOutcome_\", \"\")\n",
    "data_clean.columns = data_clean.columns.str.replace(\"shape_\", \"\")\n",
    "data_clean.columns = data_clean.columns.str.replace(\"weather_\", \"\")\n",
    "headers = ['explained'] + [c for c in data_clean.columns if c != 'explained']\n",
    "data_clean = data_clean[headers]\n",
    "print(data_clean.head())\n",
    "print(data_clean.info())\n",
    "data_np = data_clean.values"
   ]
  },
  {
   "cell_type": "markdown",
   "id": "4c365931",
   "metadata": {},
   "source": [
    "### Save the data to train, validate and test csv files"
   ]
  },
  {
   "cell_type": "code",
   "execution_count": 66,
   "id": "b58f2850",
   "metadata": {},
   "outputs": [
    {
     "name": "stdout",
     "output_type": "stream",
     "text": [
      "(12600, 21)\n",
      "(3600, 21)\n",
      "(1800, 21)\n"
     ]
    }
   ],
   "source": [
    "indices = np.arange(data_np.shape[0])\n",
    "np.random.shuffle(indices)\n",
    "train_end = int(data_np.shape[0]*0.7)\n",
    "validate_end = int(data_np.shape[0]*0.9)\n",
    "train = data_np[indices[:train_end]]\n",
    "validate = data_np[indices[train_end:validate_end]]\n",
    "test = data_np[indices[validate_end:]]\n",
    "print(train.shape)\n",
    "print(validate.shape)\n",
    "print(test.shape)"
   ]
  },
  {
   "cell_type": "code",
   "execution_count": 70,
   "id": "fca864b7",
   "metadata": {},
   "outputs": [],
   "source": [
    "s3_client = boto3.client('s3')\n",
    "bucket_name = 'acg-ml-certification-df'\n",
    "\n",
    "train_name = 'train.csv'\n",
    "validate_name = 'validate.csv'\n",
    "test_name = 'test.csv'\n",
    "test_true_name = 'test-true.csv'\n",
    "\n",
    "np.savetxt(train_name, train.astype(int), fmt='%i', delimiter=',')\n",
    "np.savetxt(validate_name, validate.astype(int), fmt='%i', delimiter=',')\n",
    "np.savetxt(test_name, test[:, 1:].astype(int), fmt='%i', delimiter=',')\n",
    "np.savetxt(test_true_name, test[:, 0].astype(int), fmt='%i', delimiter=',')\n",
    "\n",
    "for name in [train_name, validate_name, test_name, test_true_name]:\n",
    "    s3_client.upload_file(name, bucket_name, name)"
   ]
  },
  {
   "cell_type": "code",
   "execution_count": null,
   "id": "6be88f13",
   "metadata": {},
   "outputs": [],
   "source": []
  }
 ],
 "metadata": {
  "kernelspec": {
   "display_name": "conda_python3",
   "language": "python",
   "name": "conda_python3"
  },
  "language_info": {
   "codemirror_mode": {
    "name": "ipython",
    "version": 3
   },
   "file_extension": ".py",
   "mimetype": "text/x-python",
   "name": "python",
   "nbconvert_exporter": "python",
   "pygments_lexer": "ipython3",
   "version": "3.6.13"
  }
 },
 "nbformat": 4,
 "nbformat_minor": 5
}
