{
 "cells": [
  {
   "cell_type": "code",
   "execution_count": 75,
   "id": "03ee3f61",
   "metadata": {},
   "outputs": [],
   "source": [
    "import pandas as pd\n",
    "import numpy as np\n",
    "import matplotlib.pyplot as plt\n",
    "import seaborn as sns\n",
    "sns.set_theme(style=\"darkgrid\")\n",
    "%matplotlib inline"
   ]
  },
  {
   "cell_type": "code",
   "execution_count": 76,
   "id": "1aafff12",
   "metadata": {},
   "outputs": [
    {
     "name": "stdout",
     "output_type": "stream",
     "text": [
      "<class 'pandas.core.frame.DataFrame'>\n",
      "RangeIndex: 1961 entries, 0 to 1960\n",
      "Data columns (total 9 columns):\n",
      " #   Column      Non-Null Count  Dtype  \n",
      "---  ------      --------------  -----  \n",
      " 0   car         1961 non-null   object \n",
      " 1   year        1961 non-null   int64  \n",
      " 2   engine_hp   1961 non-null   float64\n",
      " 3   avg_mpg     1961 non-null   float64\n",
      " 4   price       1961 non-null   int64  \n",
      " 5   salesman    1961 non-null   int64  \n",
      " 6   dealership  1961 non-null   object \n",
      " 7   sold_date   1961 non-null   object \n",
      " 8   sold_month  1961 non-null   int64  \n",
      "dtypes: float64(2), int64(4), object(3)\n",
      "memory usage: 138.0+ KB\n"
     ]
    }
   ],
   "source": [
    "data = pd.read_csv('car_data.csv')\n",
    "data.info()"
   ]
  },
  {
   "cell_type": "code",
   "execution_count": 77,
   "id": "219fad5c",
   "metadata": {},
   "outputs": [
    {
     "data": {
      "text/html": [
       "<div>\n",
       "<style scoped>\n",
       "    .dataframe tbody tr th:only-of-type {\n",
       "        vertical-align: middle;\n",
       "    }\n",
       "\n",
       "    .dataframe tbody tr th {\n",
       "        vertical-align: top;\n",
       "    }\n",
       "\n",
       "    .dataframe thead th {\n",
       "        text-align: right;\n",
       "    }\n",
       "</style>\n",
       "<table border=\"1\" class=\"dataframe\">\n",
       "  <thead>\n",
       "    <tr style=\"text-align: right;\">\n",
       "      <th></th>\n",
       "      <th>car</th>\n",
       "      <th>year</th>\n",
       "      <th>engine_hp</th>\n",
       "      <th>avg_mpg</th>\n",
       "      <th>price</th>\n",
       "      <th>salesman</th>\n",
       "      <th>dealership</th>\n",
       "      <th>sold_date</th>\n",
       "      <th>sold_month</th>\n",
       "    </tr>\n",
       "  </thead>\n",
       "  <tbody>\n",
       "    <tr>\n",
       "      <th>0</th>\n",
       "      <td>Corvette</td>\n",
       "      <td>2011</td>\n",
       "      <td>335.0</td>\n",
       "      <td>22.5</td>\n",
       "      <td>46135</td>\n",
       "      <td>2</td>\n",
       "      <td>Big Bobs</td>\n",
       "      <td>2012-05-06</td>\n",
       "      <td>5</td>\n",
       "    </tr>\n",
       "    <tr>\n",
       "      <th>1</th>\n",
       "      <td>Corvette</td>\n",
       "      <td>2011</td>\n",
       "      <td>300.0</td>\n",
       "      <td>23.5</td>\n",
       "      <td>40650</td>\n",
       "      <td>2</td>\n",
       "      <td>Uptown Cars</td>\n",
       "      <td>2011-05-16</td>\n",
       "      <td>5</td>\n",
       "    </tr>\n",
       "    <tr>\n",
       "      <th>2</th>\n",
       "      <td>Corvette</td>\n",
       "      <td>2011</td>\n",
       "      <td>300.0</td>\n",
       "      <td>24.0</td>\n",
       "      <td>36350</td>\n",
       "      <td>2</td>\n",
       "      <td>Uptown Cars</td>\n",
       "      <td>2013-07-31</td>\n",
       "      <td>7</td>\n",
       "    </tr>\n",
       "    <tr>\n",
       "      <th>3</th>\n",
       "      <td>Corvette</td>\n",
       "      <td>2011</td>\n",
       "      <td>230.0</td>\n",
       "      <td>23.0</td>\n",
       "      <td>29450</td>\n",
       "      <td>2</td>\n",
       "      <td>Uptown Cars</td>\n",
       "      <td>2014-07-05</td>\n",
       "      <td>7</td>\n",
       "    </tr>\n",
       "    <tr>\n",
       "      <th>4</th>\n",
       "      <td>Corvette</td>\n",
       "      <td>2011</td>\n",
       "      <td>230.0</td>\n",
       "      <td>23.0</td>\n",
       "      <td>34500</td>\n",
       "      <td>2</td>\n",
       "      <td>Uptown Cars</td>\n",
       "      <td>2013-05-20</td>\n",
       "      <td>5</td>\n",
       "    </tr>\n",
       "  </tbody>\n",
       "</table>\n",
       "</div>"
      ],
      "text/plain": [
       "        car  year  engine_hp  avg_mpg  price  salesman   dealership  \\\n",
       "0  Corvette  2011      335.0     22.5  46135         2     Big Bobs   \n",
       "1  Corvette  2011      300.0     23.5  40650         2  Uptown Cars   \n",
       "2  Corvette  2011      300.0     24.0  36350         2  Uptown Cars   \n",
       "3  Corvette  2011      230.0     23.0  29450         2  Uptown Cars   \n",
       "4  Corvette  2011      230.0     23.0  34500         2  Uptown Cars   \n",
       "\n",
       "    sold_date  sold_month  \n",
       "0  2012-05-06           5  \n",
       "1  2011-05-16           5  \n",
       "2  2013-07-31           7  \n",
       "3  2014-07-05           7  \n",
       "4  2013-05-20           5  "
      ]
     },
     "execution_count": 77,
     "metadata": {},
     "output_type": "execute_result"
    }
   ],
   "source": [
    "data.head()"
   ]
  },
  {
   "cell_type": "markdown",
   "id": "2bb28324",
   "metadata": {},
   "source": [
    "### Max month overall = May (5)"
   ]
  },
  {
   "cell_type": "code",
   "execution_count": 78,
   "id": "15b5a6f2",
   "metadata": {},
   "outputs": [
    {
     "name": "stdout",
     "output_type": "stream",
     "text": [
      "5     417\n",
      "3     304\n",
      "12    282\n",
      "4     274\n",
      "6      95\n",
      "1      91\n",
      "11     90\n",
      "7      85\n",
      "9      84\n",
      "10     81\n",
      "2      80\n",
      "8      78\n",
      "Name: sold_month, dtype: int64\n"
     ]
    },
    {
     "data": {
      "image/png": "[encoded data removed]",
      "text/plain": [
       "<Figure size 432x288 with 1 Axes>"
      ]
     },
     "metadata": {
      "needs_background": "light"
     },
     "output_type": "display_data"
    }
   ],
   "source": [
    "print(data.sold_month.value_counts())\n",
    "ax = sns.countplot(x=\"sold_month\", data=data)"
   ]
  },
  {
   "cell_type": "markdown",
   "id": "8b1efebc",
   "metadata": {},
   "source": [
    "### Max month for yearly average = May (5)"
   ]
  },
  {
   "cell_type": "code",
   "execution_count": 79,
   "id": "f01ff964",
   "metadata": {},
   "outputs": [
    {
     "data": {
      "text/html": [
       "<div>\n",
       "<style scoped>\n",
       "    .dataframe tbody tr th:only-of-type {\n",
       "        vertical-align: middle;\n",
       "    }\n",
       "\n",
       "    .dataframe tbody tr th {\n",
       "        vertical-align: top;\n",
       "    }\n",
       "\n",
       "    .dataframe thead th {\n",
       "        text-align: right;\n",
       "    }\n",
       "</style>\n",
       "<table border=\"1\" class=\"dataframe\">\n",
       "  <thead>\n",
       "    <tr style=\"text-align: right;\">\n",
       "      <th></th>\n",
       "      <th>count</th>\n",
       "    </tr>\n",
       "    <tr>\n",
       "      <th>sold_month</th>\n",
       "      <th></th>\n",
       "    </tr>\n",
       "  </thead>\n",
       "  <tbody>\n",
       "    <tr>\n",
       "      <th>5</th>\n",
       "      <td>14.892857</td>\n",
       "    </tr>\n",
       "    <tr>\n",
       "      <th>4</th>\n",
       "      <td>10.960000</td>\n",
       "    </tr>\n",
       "    <tr>\n",
       "      <th>3</th>\n",
       "      <td>10.857143</td>\n",
       "    </tr>\n",
       "    <tr>\n",
       "      <th>12</th>\n",
       "      <td>10.071429</td>\n",
       "    </tr>\n",
       "    <tr>\n",
       "      <th>1</th>\n",
       "      <td>5.687500</td>\n",
       "    </tr>\n",
       "    <tr>\n",
       "      <th>6</th>\n",
       "      <td>4.750000</td>\n",
       "    </tr>\n",
       "    <tr>\n",
       "      <th>10</th>\n",
       "      <td>4.500000</td>\n",
       "    </tr>\n",
       "    <tr>\n",
       "      <th>8</th>\n",
       "      <td>4.333333</td>\n",
       "    </tr>\n",
       "    <tr>\n",
       "      <th>11</th>\n",
       "      <td>4.285714</td>\n",
       "    </tr>\n",
       "    <tr>\n",
       "      <th>9</th>\n",
       "      <td>4.200000</td>\n",
       "    </tr>\n",
       "    <tr>\n",
       "      <th>2</th>\n",
       "      <td>4.000000</td>\n",
       "    </tr>\n",
       "    <tr>\n",
       "      <th>7</th>\n",
       "      <td>3.695652</td>\n",
       "    </tr>\n",
       "  </tbody>\n",
       "</table>\n",
       "</div>"
      ],
      "text/plain": [
       "                count\n",
       "sold_month           \n",
       "5           14.892857\n",
       "4           10.960000\n",
       "3           10.857143\n",
       "12          10.071429\n",
       "1            5.687500\n",
       "6            4.750000\n",
       "10           4.500000\n",
       "8            4.333333\n",
       "11           4.285714\n",
       "9            4.200000\n",
       "2            4.000000\n",
       "7            3.695652"
      ]
     },
     "execution_count": 79,
     "metadata": {},
     "output_type": "execute_result"
    }
   ],
   "source": [
    "grouped_data = data.value_counts(subset=['year', 'sold_month']).reset_index().rename(columns={0: \"count\"})[['sold_month', 'count']]\n",
    "grouped_data.groupby(['sold_month']).mean().sort_values(by=['count'], ascending=False)"
   ]
  },
  {
   "cell_type": "markdown",
   "id": "1e5b927d",
   "metadata": {},
   "source": [
    "### Salesman `3` sold the most"
   ]
  },
  {
   "cell_type": "code",
   "execution_count": 85,
   "id": "7819cf1c",
   "metadata": {},
   "outputs": [
    {
     "name": "stdout",
     "output_type": "stream",
     "text": [
      "3    1054\n",
      "2     513\n",
      "4     304\n",
      "1      90\n",
      "Name: salesman, dtype: int64\n"
     ]
    },
    {
     "data": {
      "image/png": "[encoded data removed]",
      "text/plain": [
       "<Figure size 432x288 with 1 Axes>"
      ]
     },
     "metadata": {
      "needs_background": "light"
     },
     "output_type": "display_data"
    }
   ],
   "source": [
    "print(data.salesman.value_counts())\n",
    "ax = sns.countplot(x=\"salesman\", data=data)"
   ]
  },
  {
   "cell_type": "markdown",
   "id": "d3b210c4",
   "metadata": {},
   "source": [
    "### Dealership `Uptown Cars` sold the most"
   ]
  },
  {
   "cell_type": "code",
   "execution_count": 86,
   "id": "803eda90",
   "metadata": {},
   "outputs": [
    {
     "name": "stdout",
     "output_type": "stream",
     "text": [
      "Uptown Cars    1012\n",
      "Car Town        672\n",
      "Big Bobs        277\n",
      "Name: dealership, dtype: int64\n"
     ]
    },
    {
     "data": {
      "image/png": "[encoded data removed]",
      "text/plain": [
       "<Figure size 432x288 with 1 Axes>"
      ]
     },
     "metadata": {
      "needs_background": "light"
     },
     "output_type": "display_data"
    }
   ],
   "source": [
    "print(data.dealership.value_counts())\n",
    "ax = sns.countplot(x=\"dealership\", data=data)"
   ]
  },
  {
   "cell_type": "markdown",
   "id": "0e9bc70c",
   "metadata": {},
   "source": [
    "### In `2005` the average price of a Corevette was > \\$100k"
   ]
  },
  {
   "cell_type": "code",
   "execution_count": 117,
   "id": "f092f5b8",
   "metadata": {},
   "outputs": [
    {
     "name": "stdout",
     "output_type": "stream",
     "text": [
      "   year     price\n",
      "9  2005  102100.0\n"
     ]
    },
    {
     "data": {
      "image/png": "[encoded data removed]",
      "text/plain": [
       "<Figure size 432x288 with 1 Axes>"
      ]
     },
     "metadata": {
      "needs_background": "light"
     },
     "output_type": "display_data"
    }
   ],
   "source": [
    "mean_data = data.loc[data.car=='Corvette', ['price', 'sold_date']]\n",
    "mean_data['year'] = pd.DatetimeIndex(mean_data.sold_date).year\n",
    "\n",
    "mean_data = mean_data[['price', 'year']].groupby(['year']).mean().reset_index()\n",
    "print(mean_data[mean_data.price > 100000])\n",
    "ax = sns.lineplot(data=mean_data, x=\"year\", y=\"price\")\n"
   ]
  },
  {
   "cell_type": "markdown",
   "id": "6925a51f",
   "metadata": {},
   "source": [
    "### `Mustang ` has several points in the far right upper quartile for horsepower"
   ]
  },
  {
   "cell_type": "code",
   "execution_count": 83,
   "id": "2cf6e285",
   "metadata": {},
   "outputs": [
    {
     "data": {
      "image/png": "[encoded data removed]",
      "text/plain": [
       "<Figure size 432x288 with 1 Axes>"
      ]
     },
     "metadata": {
      "needs_background": "light"
     },
     "output_type": "display_data"
    }
   ],
   "source": [
    "ax = sns.boxplot(y='engine_hp', x='car', data=data)"
   ]
  },
  {
   "cell_type": "code",
   "execution_count": null,
   "id": "97372eeb",
   "metadata": {},
   "outputs": [],
   "source": []
  }
 ],
 "metadata": {
  "kernelspec": {
   "display_name": "conda_python3",
   "language": "python",
   "name": "conda_python3"
  },
  "language_info": {
   "codemirror_mode": {
    "name": "ipython",
    "version": 3
   },
   "file_extension": ".py",
   "mimetype": "text/x-python",
   "name": "python",
   "nbconvert_exporter": "python",
   "pygments_lexer": "ipython3",
   "version": "3.6.13"
  }
 },
 "nbformat": 4,
 "nbformat_minor": 5
}
