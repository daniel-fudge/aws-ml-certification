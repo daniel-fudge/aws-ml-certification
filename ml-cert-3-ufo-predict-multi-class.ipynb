{
 "cells": [
  {
   "cell_type": "code",
   "execution_count": 1,
   "id": "0973a8cb",
   "metadata": {},
   "outputs": [],
   "source": [
    "import boto3\n",
    "from datetime import datetime\n",
    "import numpy as np\n",
    "import os\n",
    "import pandas as pd\n",
    "import pickle as pkl \n",
    "import sagemaker\n",
    "from sklearn.metrics import accuracy_score, f1_score, precision_score, recall_score"
   ]
  },
  {
   "cell_type": "code",
   "execution_count": 2,
   "id": "9f95b166",
   "metadata": {},
   "outputs": [
    {
     "name": "stdout",
     "output_type": "stream",
     "text": [
      "Requirement already satisfied: xgboost in /home/ec2-user/anaconda3/envs/python3/lib/python3.6/site-packages (1.4.2)\n",
      "Requirement already satisfied: numpy in /home/ec2-user/anaconda3/envs/python3/lib/python3.6/site-packages (from xgboost) (1.19.5)\n",
      "Requirement already satisfied: scipy in /home/ec2-user/anaconda3/envs/python3/lib/python3.6/site-packages (from xgboost) (1.5.3)\n"
     ]
    }
   ],
   "source": [
    "!pip install xgboost\n",
    "import xgboost as xgb\n"
   ]
  },
  {
   "cell_type": "markdown",
   "id": "ff85d1e9",
   "metadata": {},
   "source": [
    "### Get the data"
   ]
  },
  {
   "cell_type": "code",
   "execution_count": 11,
   "id": "78cafc68",
   "metadata": {},
   "outputs": [
    {
     "data": {
      "text/html": [
       "<div>\n",
       "<style scoped>\n",
       "    .dataframe tbody tr th:only-of-type {\n",
       "        vertical-align: middle;\n",
       "    }\n",
       "\n",
       "    .dataframe tbody tr th {\n",
       "        vertical-align: top;\n",
       "    }\n",
       "\n",
       "    .dataframe thead th {\n",
       "        text-align: right;\n",
       "    }\n",
       "</style>\n",
       "<table border=\"1\" class=\"dataframe\">\n",
       "  <thead>\n",
       "    <tr style=\"text-align: right;\">\n",
       "      <th></th>\n",
       "      <th>shape</th>\n",
       "      <th>duration</th>\n",
       "      <th>witnesses</th>\n",
       "      <th>weather</th>\n",
       "      <th>latitude</th>\n",
       "      <th>longitude</th>\n",
       "      <th>physicalEvidence</th>\n",
       "      <th>contact</th>\n",
       "      <th>researchOutcome</th>\n",
       "    </tr>\n",
       "  </thead>\n",
       "  <tbody>\n",
       "    <tr>\n",
       "      <th>0</th>\n",
       "      <td>circle</td>\n",
       "      <td>4</td>\n",
       "      <td>1</td>\n",
       "      <td>rain</td>\n",
       "      <td>47.329444</td>\n",
       "      <td>-122.578889</td>\n",
       "      <td>N</td>\n",
       "      <td>N</td>\n",
       "      <td>explained</td>\n",
       "    </tr>\n",
       "    <tr>\n",
       "      <th>1</th>\n",
       "      <td>disk</td>\n",
       "      <td>4</td>\n",
       "      <td>1</td>\n",
       "      <td>partly cloudy</td>\n",
       "      <td>52.664913</td>\n",
       "      <td>-1.034894</td>\n",
       "      <td>Y</td>\n",
       "      <td>N</td>\n",
       "      <td>explained</td>\n",
       "    </tr>\n",
       "    <tr>\n",
       "      <th>2</th>\n",
       "      <td>circle</td>\n",
       "      <td>49</td>\n",
       "      <td>1</td>\n",
       "      <td>clear</td>\n",
       "      <td>38.951667</td>\n",
       "      <td>-92.333889</td>\n",
       "      <td>N</td>\n",
       "      <td>N</td>\n",
       "      <td>explained</td>\n",
       "    </tr>\n",
       "    <tr>\n",
       "      <th>3</th>\n",
       "      <td>disk</td>\n",
       "      <td>13</td>\n",
       "      <td>1</td>\n",
       "      <td>partly cloudy</td>\n",
       "      <td>41.496944</td>\n",
       "      <td>-71.367778</td>\n",
       "      <td>N</td>\n",
       "      <td>N</td>\n",
       "      <td>explained</td>\n",
       "    </tr>\n",
       "    <tr>\n",
       "      <th>4</th>\n",
       "      <td>circle</td>\n",
       "      <td>17</td>\n",
       "      <td>1</td>\n",
       "      <td>mostly cloudy</td>\n",
       "      <td>47.606389</td>\n",
       "      <td>-122.330833</td>\n",
       "      <td>N</td>\n",
       "      <td>N</td>\n",
       "      <td>explained</td>\n",
       "    </tr>\n",
       "  </tbody>\n",
       "</table>\n",
       "</div>"
      ],
      "text/plain": [
       "    shape  duration  witnesses        weather   latitude   longitude  \\\n",
       "0  circle         4          1           rain  47.329444 -122.578889   \n",
       "1    disk         4          1  partly cloudy  52.664913   -1.034894   \n",
       "2  circle        49          1          clear  38.951667  -92.333889   \n",
       "3    disk        13          1  partly cloudy  41.496944  -71.367778   \n",
       "4  circle        17          1  mostly cloudy  47.606389 -122.330833   \n",
       "\n",
       "  physicalEvidence contact researchOutcome  \n",
       "0                N       N       explained  \n",
       "1                Y       N       explained  \n",
       "2                N       N       explained  \n",
       "3                N       N       explained  \n",
       "4                N       N       explained  "
      ]
     },
     "execution_count": 11,
     "metadata": {},
     "output_type": "execute_result"
    }
   ],
   "source": [
    "data = pd.read_csv('ufo_fullset.csv', \n",
    "                   usecols=['shape', 'duration', 'witnesses', 'weather', 'physicalEvidence', \n",
    "                            'contact', 'researchOutcome', 'longitude', 'latitude'])\n",
    "data.head()\n"
   ]
  },
  {
   "cell_type": "markdown",
   "id": "b5e437a5",
   "metadata": {},
   "source": [
    "### Clean the data"
   ]
  },
  {
   "cell_type": "code",
   "execution_count": 12,
   "id": "1242a335",
   "metadata": {},
   "outputs": [
    {
     "name": "stdout",
     "output_type": "stream",
     "text": [
      "   researchOutcome  duration  witnesses   latitude   longitude  \\\n",
      "0                0         4          1  47.329444 -122.578889   \n",
      "1                0         4          1  52.664913   -1.034894   \n",
      "2                0        49          1  38.951667  -92.333889   \n",
      "3                0        13          1  41.496944  -71.367778   \n",
      "4                0        17          1  47.606389 -122.330833   \n",
      "\n",
      "   physicalEvidence  contact  box  circle  disk  ...  oval  pyramid  sphere  \\\n",
      "0                 0        0    0       1     0  ...     0        0       0   \n",
      "1                 1        0    0       0     1  ...     0        0       0   \n",
      "2                 0        0    0       1     0  ...     0        0       0   \n",
      "3                 0        0    0       0     1  ...     0        0       0   \n",
      "4                 0        0    0       1     0  ...     0        0       0   \n",
      "\n",
      "   square  fog  mostly_cloudy  partly_cloudy  rain  snow  stormy  \n",
      "0       0    0              0              0     1     0       0  \n",
      "1       0    0              0              1     0     0       0  \n",
      "2       0    0              0              0     0     0       0  \n",
      "3       0    0              0              1     0     0       0  \n",
      "4       0    0              1              0     0     0       0  \n",
      "\n",
      "[5 rows x 21 columns]\n",
      "<class 'pandas.core.frame.DataFrame'>\n",
      "RangeIndex: 18000 entries, 0 to 17999\n",
      "Data columns (total 21 columns):\n",
      " #   Column            Non-Null Count  Dtype  \n",
      "---  ------            --------------  -----  \n",
      " 0   researchOutcome   18000 non-null  int64  \n",
      " 1   duration          18000 non-null  int64  \n",
      " 2   witnesses         18000 non-null  int64  \n",
      " 3   latitude          18000 non-null  float64\n",
      " 4   longitude         18000 non-null  float64\n",
      " 5   physicalEvidence  18000 non-null  int64  \n",
      " 6   contact           18000 non-null  int64  \n",
      " 7   box               18000 non-null  uint8  \n",
      " 8   circle            18000 non-null  uint8  \n",
      " 9   disk              18000 non-null  uint8  \n",
      " 10  light             18000 non-null  uint8  \n",
      " 11  oval              18000 non-null  uint8  \n",
      " 12  pyramid           18000 non-null  uint8  \n",
      " 13  sphere            18000 non-null  uint8  \n",
      " 14  square            18000 non-null  uint8  \n",
      " 15  fog               18000 non-null  uint8  \n",
      " 16  mostly_cloudy     18000 non-null  uint8  \n",
      " 17  partly_cloudy     18000 non-null  uint8  \n",
      " 18  rain              18000 non-null  uint8  \n",
      " 19  snow              18000 non-null  uint8  \n",
      " 20  stormy            18000 non-null  uint8  \n",
      "dtypes: float64(2), int64(5), uint8(14)\n",
      "memory usage: 1.2 MB\n",
      "None\n"
     ]
    }
   ],
   "source": [
    "data_clean = data.copy()\n",
    "data_clean['shape'] = data_clean['shape'].fillna('circle')\n",
    "data_clean.replace(' ', '_', regex=True, inplace=True)\n",
    "data_clean.replace(('Y', 'N'), (1, 0), inplace=True)\n",
    "\n",
    "outcome_map = {v: i for i, v in enumerate(data_clean.researchOutcome.unique())}\n",
    "data_clean.researchOutcome = data_clean.researchOutcome.replace(outcome_map)\n",
    "\n",
    "data_clean = pd.get_dummies(data_clean, columns=['shape', 'weather'])\n",
    "data_clean.drop(columns=['shape_triangle', 'weather_clear'], inplace=True)\n",
    "data_clean.columns = data_clean.columns.str.replace(\"shape_\", \"\")\n",
    "data_clean.columns = data_clean.columns.str.replace(\"weather_\", \"\")\n",
    "\n",
    "headers = ['researchOutcome'] + [c for c in data_clean.columns if c != 'researchOutcome']\n",
    "data_clean = data_clean[headers]\n",
    "\n",
    "print(data_clean.head())\n",
    "print(data_clean.info())\n",
    "data_np = data_clean.values"
   ]
  },
  {
   "cell_type": "markdown",
   "id": "877b7d32",
   "metadata": {},
   "source": [
    "### Save the data to train, validate and test csv files"
   ]
  },
  {
   "cell_type": "code",
   "execution_count": 13,
   "id": "a6e184df",
   "metadata": {},
   "outputs": [
    {
     "name": "stdout",
     "output_type": "stream",
     "text": [
      "(12600, 21)\n",
      "(3600, 21)\n",
      "(1800, 21)\n"
     ]
    }
   ],
   "source": [
    "indices = np.arange(data_np.shape[0])\n",
    "np.random.shuffle(indices)\n",
    "train_end = int(data_np.shape[0]*0.7)\n",
    "validate_end = int(data_np.shape[0]*0.9)\n",
    "train = data_np[indices[:train_end]]\n",
    "validate = data_np[indices[train_end:validate_end]]\n",
    "test = data_np[indices[validate_end:]]\n",
    "print(train.shape)\n",
    "print(validate.shape)\n",
    "print(test.shape)"
   ]
  },
  {
   "cell_type": "code",
   "execution_count": 14,
   "id": "0bf898ae",
   "metadata": {},
   "outputs": [],
   "source": [
    "s3_client = boto3.client('s3')\n",
    "bucket_name = 'acg-ml-certification-df'\n",
    "\n",
    "train_name = 'train-3.csv'\n",
    "validate_name = 'validate-3.csv'\n",
    "\n",
    "np.savetxt(train_name, train, delimiter=',')\n",
    "np.savetxt(validate_name, validate, delimiter=',')\n",
    "\n",
    "for name in [train_name, validate_name]:\n",
    "    s3_client.upload_file(name, bucket_name, name)"
   ]
  },
  {
   "cell_type": "markdown",
   "id": "da09fb4f",
   "metadata": {},
   "source": [
    "## Train XGBoost"
   ]
  },
  {
   "cell_type": "code",
   "execution_count": 15,
   "id": "04a4e7f7",
   "metadata": {
    "scrolled": true
   },
   "outputs": [
    {
     "name": "stdout",
     "output_type": "stream",
     "text": [
      "2021-05-29 04:22:18 Starting - Starting the training job...\n",
      "2021-05-29 04:22:20 Starting - Launching requested ML instancesProfilerReport-1622262138: InProgress\n",
      "......\n",
      "2021-05-29 04:23:32 Starting - Preparing the instances for training.........\n",
      "2021-05-29 04:25:12 Downloading - Downloading input data\n",
      "2021-05-29 04:25:12 Training - Downloading the training image.....\u001b[34m[2021-05-29 04:25:55.566 ip-10-0-130-241.ec2.internal:1 INFO utils.py:27] RULE_JOB_STOP_SIGNAL_FILENAME: None\u001b[0m\n",
      "\u001b[34m[2021-05-29:04:25:55:INFO] Imported framework sagemaker_xgboost_container.training\u001b[0m\n",
      "\u001b[34m[2021-05-29:04:25:55:INFO] Failed to parse hyperparameter objective value multi:softmax to Json.\u001b[0m\n",
      "\u001b[34mReturning the value itself\u001b[0m\n",
      "\u001b[34m[2021-05-29:04:25:55:INFO] No GPUs detected (normal if no gpus installed)\u001b[0m\n",
      "\u001b[34m[2021-05-29:04:25:55:INFO] Running XGBoost Sagemaker in algorithm mode\u001b[0m\n",
      "\u001b[34m[2021-05-29:04:25:55:INFO] Determined delimiter of CSV input is ','\u001b[0m\n",
      "\u001b[34m[2021-05-29:04:25:55:INFO] Determined delimiter of CSV input is ','\u001b[0m\n",
      "\u001b[34m[2021-05-29:04:25:55:INFO] Determined delimiter of CSV input is ','\u001b[0m\n",
      "\u001b[34m[2021-05-29:04:25:55:INFO] Determined delimiter of CSV input is ','\u001b[0m\n",
      "\u001b[34m[2021-05-29:04:25:55:INFO] Single node training.\u001b[0m\n",
      "\u001b[34m[2021-05-29:04:25:55:INFO] Train matrix has 12600 rows and 20 columns\u001b[0m\n",
      "\u001b[34m[2021-05-29:04:25:55:INFO] Validation matrix has 3600 rows\u001b[0m\n",
      "\u001b[34m[0]#011train-merror:0.06333#011validation-merror:0.07056\u001b[0m\n",
      "\u001b[34m[1]#011train-merror:0.06238#011validation-merror:0.07056\u001b[0m\n",
      "\u001b[34m[2]#011train-merror:0.04865#011validation-merror:0.06028\u001b[0m\n",
      "\u001b[34m[3]#011train-merror:0.06198#011validation-merror:0.07111\u001b[0m\n",
      "\u001b[34m[4]#011train-merror:0.04841#011validation-merror:0.06083\u001b[0m\n",
      "\u001b[34m[5]#011train-merror:0.05635#011validation-merror:0.06806\u001b[0m\n",
      "\u001b[34m[6]#011train-merror:0.04905#011validation-merror:0.06028\u001b[0m\n",
      "\u001b[34m[7]#011train-merror:0.04944#011validation-merror:0.06056\u001b[0m\n",
      "\u001b[34m[8]#011train-merror:0.04952#011validation-merror:0.06056\u001b[0m\n",
      "\u001b[34m[9]#011train-merror:0.05016#011validation-merror:0.05972\u001b[0m\n",
      "\u001b[34m[10]#011train-merror:0.04984#011validation-merror:0.05889\u001b[0m\n",
      "\u001b[34m[11]#011train-merror:0.04897#011validation-merror:0.05944\u001b[0m\n",
      "\u001b[34m[12]#011train-merror:0.04905#011validation-merror:0.05944\u001b[0m\n",
      "\u001b[34m[13]#011train-merror:0.04921#011validation-merror:0.05944\u001b[0m\n",
      "\u001b[34m[14]#011train-merror:0.04889#011validation-merror:0.05944\u001b[0m\n",
      "\u001b[34m[15]#011train-merror:0.04873#011validation-merror:0.05917\u001b[0m\n",
      "\u001b[34m[16]#011train-merror:0.04833#011validation-merror:0.05972\u001b[0m\n",
      "\u001b[34m[17]#011train-merror:0.04825#011validation-merror:0.05917\u001b[0m\n",
      "\u001b[34m[18]#011train-merror:0.04722#011validation-merror:0.05889\u001b[0m\n",
      "\u001b[34m[19]#011train-merror:0.04691#011validation-merror:0.05917\u001b[0m\n",
      "\u001b[34m[20]#011train-merror:0.04627#011validation-merror:0.05917\u001b[0m\n",
      "\u001b[34m[21]#011train-merror:0.04595#011validation-merror:0.05917\u001b[0m\n",
      "\u001b[34m[22]#011train-merror:0.04556#011validation-merror:0.05944\u001b[0m\n",
      "\u001b[34m[23]#011train-merror:0.04564#011validation-merror:0.05944\u001b[0m\n",
      "\u001b[34m[24]#011train-merror:0.04516#011validation-merror:0.05972\u001b[0m\n",
      "\u001b[34m[25]#011train-merror:0.04468#011validation-merror:0.05972\u001b[0m\n",
      "\u001b[34m[26]#011train-merror:0.04444#011validation-merror:0.05944\u001b[0m\n",
      "\u001b[34m[27]#011train-merror:0.04381#011validation-merror:0.05917\u001b[0m\n",
      "\u001b[34m[28]#011train-merror:0.04254#011validation-merror:0.05944\u001b[0m\n",
      "\u001b[34m[29]#011train-merror:0.04167#011validation-merror:0.05861\u001b[0m\n",
      "\u001b[34m[30]#011train-merror:0.04056#011validation-merror:0.05917\u001b[0m\n",
      "\u001b[34m[31]#011train-merror:0.04016#011validation-merror:0.06028\u001b[0m\n",
      "\u001b[34m[32]#011train-merror:0.03944#011validation-merror:0.06000\u001b[0m\n",
      "\u001b[34m[33]#011train-merror:0.03873#011validation-merror:0.06000\u001b[0m\n",
      "\u001b[34m[34]#011train-merror:0.03833#011validation-merror:0.06000\u001b[0m\n",
      "\u001b[34m[35]#011train-merror:0.03809#011validation-merror:0.05944\u001b[0m\n",
      "\u001b[34m[36]#011train-merror:0.03738#011validation-merror:0.05917\u001b[0m\n",
      "\u001b[34m[37]#011train-merror:0.03627#011validation-merror:0.05944\u001b[0m\n",
      "\u001b[34m[38]#011train-merror:0.03587#011validation-merror:0.05917\u001b[0m\n",
      "\u001b[34m[39]#011train-merror:0.03484#011validation-merror:0.06056\u001b[0m\n",
      "\u001b[34m[40]#011train-merror:0.03468#011validation-merror:0.06000\u001b[0m\n",
      "\u001b[34m[41]#011train-merror:0.03421#011validation-merror:0.06028\u001b[0m\n",
      "\u001b[34m[42]#011train-merror:0.03365#011validation-merror:0.06028\u001b[0m\n",
      "\u001b[34m[43]#011train-merror:0.03325#011validation-merror:0.06139\u001b[0m\n",
      "\u001b[34m[44]#011train-merror:0.03238#011validation-merror:0.06139\u001b[0m\n",
      "\u001b[34m[45]#011train-merror:0.03159#011validation-merror:0.06111\u001b[0m\n",
      "\u001b[34m[46]#011train-merror:0.03111#011validation-merror:0.06083\u001b[0m\n",
      "\u001b[34m[47]#011train-merror:0.03087#011validation-merror:0.06056\u001b[0m\n",
      "\u001b[34m[48]#011train-merror:0.03040#011validation-merror:0.06056\u001b[0m\n",
      "\u001b[34m[49]#011train-merror:0.02984#011validation-merror:0.06111\u001b[0m\n",
      "\u001b[34m[50]#011train-merror:0.02944#011validation-merror:0.06083\u001b[0m\n",
      "\u001b[34m[51]#011train-merror:0.02897#011validation-merror:0.06056\u001b[0m\n",
      "\u001b[34m[52]#011train-merror:0.02833#011validation-merror:0.06028\u001b[0m\n",
      "\u001b[34m[53]#011train-merror:0.02809#011validation-merror:0.05972\u001b[0m\n",
      "\u001b[34m[54]#011train-merror:0.02722#011validation-merror:0.06028\u001b[0m\n",
      "\u001b[34m[55]#011train-merror:0.02683#011validation-merror:0.05972\u001b[0m\n",
      "\u001b[34m[56]#011train-merror:0.02611#011validation-merror:0.06083\u001b[0m\n",
      "\u001b[34m[57]#011train-merror:0.02532#011validation-merror:0.06111\u001b[0m\n",
      "\u001b[34m[58]#011train-merror:0.02500#011validation-merror:0.06028\u001b[0m\n",
      "\u001b[34m[59]#011train-merror:0.02484#011validation-merror:0.06056\u001b[0m\n",
      "\u001b[34m[60]#011train-merror:0.02444#011validation-merror:0.06056\u001b[0m\n",
      "\u001b[34m[61]#011train-merror:0.02421#011validation-merror:0.06028\u001b[0m\n",
      "\u001b[34m[62]#011train-merror:0.02357#011validation-merror:0.06083\u001b[0m\n",
      "\u001b[34m[63]#011train-merror:0.02286#011validation-merror:0.06194\u001b[0m\n",
      "\u001b[34m[64]#011train-merror:0.02254#011validation-merror:0.06111\u001b[0m\n",
      "\u001b[34m[65]#011train-merror:0.02222#011validation-merror:0.06167\u001b[0m\n",
      "\u001b[34m[66]#011train-merror:0.02159#011validation-merror:0.06139\u001b[0m\n",
      "\u001b[34m[67]#011train-merror:0.02095#011validation-merror:0.06139\u001b[0m\n",
      "\u001b[34m[68]#011train-merror:0.02032#011validation-merror:0.06139\u001b[0m\n",
      "\u001b[34m[69]#011train-merror:0.02024#011validation-merror:0.06139\u001b[0m\n",
      "\u001b[34m[70]#011train-merror:0.01976#011validation-merror:0.06111\u001b[0m\n",
      "\u001b[34m[71]#011train-merror:0.01921#011validation-merror:0.06139\u001b[0m\n",
      "\u001b[34m[72]#011train-merror:0.01889#011validation-merror:0.06111\u001b[0m\n",
      "\u001b[34m[73]#011train-merror:0.01937#011validation-merror:0.06111\u001b[0m\n",
      "\u001b[34m[74]#011train-merror:0.01833#011validation-merror:0.06167\u001b[0m\n",
      "\u001b[34m[75]#011train-merror:0.01770#011validation-merror:0.06139\u001b[0m\n",
      "\u001b[34m[76]#011train-merror:0.01738#011validation-merror:0.06139\u001b[0m\n",
      "\u001b[34m[77]#011train-merror:0.01706#011validation-merror:0.06111\u001b[0m\n",
      "\u001b[34m[78]#011train-merror:0.01675#011validation-merror:0.06139\u001b[0m\n",
      "\u001b[34m[79]#011train-merror:0.01643#011validation-merror:0.06139\u001b[0m\n",
      "\u001b[34m[80]#011train-merror:0.01587#011validation-merror:0.06139\u001b[0m\n",
      "\u001b[34m[81]#011train-merror:0.01571#011validation-merror:0.06111\u001b[0m\n",
      "\u001b[34m[82]#011train-merror:0.01500#011validation-merror:0.06056\u001b[0m\n",
      "\u001b[34m[83]#011train-merror:0.01460#011validation-merror:0.06083\u001b[0m\n",
      "\u001b[34m[84]#011train-merror:0.01444#011validation-merror:0.06056\u001b[0m\n",
      "\u001b[34m[85]#011train-merror:0.01421#011validation-merror:0.06139\u001b[0m\n",
      "\u001b[34m[86]#011train-merror:0.01397#011validation-merror:0.06111\u001b[0m\n",
      "\u001b[34m[87]#011train-merror:0.01349#011validation-merror:0.06111\u001b[0m\n",
      "\u001b[34m[88]#011train-merror:0.01302#011validation-merror:0.06083\u001b[0m\n",
      "\u001b[34m[89]#011train-merror:0.01286#011validation-merror:0.06056\u001b[0m\n",
      "\u001b[34m[90]#011train-merror:0.01270#011validation-merror:0.06083\u001b[0m\n",
      "\u001b[34m[91]#011train-merror:0.01214#011validation-merror:0.06028\u001b[0m\n",
      "\u001b[34m[92]#011train-merror:0.01167#011validation-merror:0.06056\u001b[0m\n",
      "\u001b[34m[93]#011train-merror:0.01095#011validation-merror:0.06056\u001b[0m\n",
      "\u001b[34m[94]#011train-merror:0.01048#011validation-merror:0.06028\u001b[0m\n",
      "\u001b[34m[95]#011train-merror:0.00984#011validation-merror:0.06028\u001b[0m\n",
      "\u001b[34m[96]#011train-merror:0.00968#011validation-merror:0.05972\u001b[0m\n",
      "\u001b[34m[97]#011train-merror:0.00968#011validation-merror:0.06083\u001b[0m\n",
      "\u001b[34m[98]#011train-merror:0.00952#011validation-merror:0.06111\u001b[0m\n",
      "\u001b[34m[99]#011train-merror:0.00929#011validation-merror:0.06111\u001b[0m\n",
      "\n",
      "2021-05-29 04:26:12 Uploading - Uploading generated training model\n",
      "2021-05-29 04:26:12 Completed - Training job completed\n"
     ]
    },
    {
     "name": "stdout",
     "output_type": "stream",
     "text": [
      "Training seconds: 73\n",
      "Billable seconds: 73\n"
     ]
    }
   ],
   "source": [
    "output_bucket = sagemaker.Session().default_bucket()\n",
    "output_path = f\"s3://{output_bucket}\"\n",
    "job_name = f'xgboost-{datetime.now().strftime(\"%Y%m%d%H%M%S\")}'\n",
    "\n",
    "hyperparameters = {\n",
    "    'num_class': 3,\n",
    "    'num_round': 100,\n",
    "    'objective':\"multi:softmax\"}\n",
    "\n",
    "xgboost_container = sagemaker.image_uris.retrieve(\"xgboost\", boto3.Session().region_name, \"1.2-2\")\n",
    "\n",
    "estimator = sagemaker.estimator.Estimator(image_uri=xgboost_container, \n",
    "                                          hyperparameters=hyperparameters,\n",
    "                                          role=sagemaker.get_execution_role(),\n",
    "                                          instance_count=1, \n",
    "                                          instance_type='ml.m4.xlarge', \n",
    "                                          volume_size=5, \n",
    "                                          output_path=output_path)\n",
    "\n",
    "# define the data type and paths to the training and validation datasets\n",
    "train_input = sagemaker.inputs.TrainingInput(f\"s3://{bucket_name}/train-3.csv\", content_type=\"csv\")\n",
    "validation_input = sagemaker.inputs.TrainingInput(f\"s3://{bucket_name}/validate-3.csv\", content_type=\"csv\")\n",
    "\n",
    "# execute the XGBoost training job\n",
    "estimator.fit(inputs={'train': train_input, 'validation': validation_input}, job_name=job_name)\n"
   ]
  },
  {
   "cell_type": "markdown",
   "id": "60f1074c",
   "metadata": {},
   "source": [
    "### Evaluate the model"
   ]
  },
  {
   "cell_type": "code",
   "execution_count": 16,
   "id": "c4e03d6a",
   "metadata": {},
   "outputs": [],
   "source": [
    "model_key = job_name + '/output/model.tar.gz'\n",
    "boto3.resource('s3').Bucket(output_bucket).download_file(model_key, 'model.tar.gz')\n",
    "os.system('gtar -xvf model.tar.gz')\n",
    "with open(\"xgboost-model\", \"rb\") as f:\n",
    "    booster = pkl.load(f)\n",
    "pred = booster.predict(xgb.DMatrix(test[:, 1:])).astype(int)"
   ]
  },
  {
   "cell_type": "markdown",
   "id": "c5e9c6dc",
   "metadata": {},
   "source": [
    "#### Testing stats"
   ]
  },
  {
   "cell_type": "code",
   "execution_count": 17,
   "id": "ac9ddb68",
   "metadata": {},
   "outputs": [
    {
     "name": "stdout",
     "output_type": "stream",
     "text": [
      "Accuracy:  0.9422\n",
      "Recall:    0.9118\n",
      "Precision: 0.9029\n",
      "f1:        0.9073\n"
     ]
    }
   ],
   "source": [
    "pred = booster.predict(xgb.DMatrix(test[:, 1:])).astype(int)\n",
    "print(f\"Accuracy:  {accuracy_score(test[:, 0], pred):.4f}\")\n",
    "print(f\"Recall:    {recall_score(test[:, 0], pred, average='macro'):.4f}\")\n",
    "print(f\"Precision: {precision_score(test[:, 0], pred, average='macro'):.4f}\")\n",
    "print(f\"f1:        {f1_score(test[:, 0], pred, average='macro'):.4f}\")"
   ]
  },
  {
   "cell_type": "markdown",
   "id": "a791ce8f",
   "metadata": {},
   "source": [
    "#### Validation Stats"
   ]
  },
  {
   "cell_type": "code",
   "execution_count": 18,
   "id": "1463bad3",
   "metadata": {},
   "outputs": [
    {
     "name": "stdout",
     "output_type": "stream",
     "text": [
      "Accuracy:  0.9389\n",
      "Recall:    0.9102\n",
      "Precision: 0.8933\n",
      "f1:        0.9014\n"
     ]
    }
   ],
   "source": [
    "pred = booster.predict(xgb.DMatrix(validate[:, 1:])).astype(int)\n",
    "print(f\"Accuracy:  {accuracy_score(validate[:, 0], pred):.4f}\")\n",
    "print(f\"Recall:    {recall_score(validate[:, 0], pred, average='macro'):.4f}\")\n",
    "print(f\"Precision: {precision_score(validate[:, 0], pred, average='macro'):.4f}\")\n",
    "print(f\"f1:        {f1_score(validate[:, 0], pred, average='macro'):.4f}\")"
   ]
  },
  {
   "cell_type": "code",
   "execution_count": null,
   "id": "06c1dc89",
   "metadata": {},
   "outputs": [],
   "source": []
  }
 ],
 "metadata": {
  "kernelspec": {
   "display_name": "conda_python3",
   "language": "python",
   "name": "conda_python3"
  },
  "language_info": {
   "codemirror_mode": {
    "name": "ipython",
    "version": 3
   },
   "file_extension": ".py",
   "mimetype": "text/x-python",
   "name": "python",
   "nbconvert_exporter": "python",
   "pygments_lexer": "ipython3",
   "version": "3.6.13"
  }
 },
 "nbformat": 4,
 "nbformat_minor": 5
}
